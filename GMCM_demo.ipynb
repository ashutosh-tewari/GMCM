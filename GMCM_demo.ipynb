{
 "cells": [
  {
   "cell_type": "code",
   "execution_count": null,
   "metadata": {},
   "outputs": [],
   "source": [
    "# %pip install tensorflow-probability==0.15.0"
   ]
  },
  {
   "cell_type": "code",
   "execution_count": 1,
   "metadata": {},
   "outputs": [],
   "source": [
    "# magic command for automatic reload of python modules without needing to restart the notebook\n",
    "%load_ext autoreload\n",
    "%autoreload 2"
   ]
  },
  {
   "cell_type": "code",
   "execution_count": 6,
   "metadata": {},
   "outputs": [],
   "source": [
    "import numpy as np\n",
    "import scipy as sc\n",
    "import tensorflow as tf\n",
    "import tensorflow_probability as tfp\n",
    "tfd=tfp.distributions\n",
    "tfb=tfp.bijectors\n",
    "from scipy import io\n",
    "import time\n",
    "import matplotlib.pyplot as plt\n",
    "from sklearn import mixture\n",
    "import joblib as jbl\n",
    "import sys\n",
    "import sklearn\n",
    "import pandas as pd\n",
    "from mixture_models import GMCM, GMC\n",
    "import utils_v1 as utl"
   ]
  },
  {
   "cell_type": "code",
   "execution_count": 7,
   "metadata": {},
   "outputs": [],
   "source": [
    "# # checking the device specification\n",
    "# from tensorflow.python.client import device_lib\n",
    "# print(device_lib.list_local_devices())"
   ]
  },
  {
   "cell_type": "code",
   "execution_count": 16,
   "metadata": {},
   "outputs": [
    {
     "name": "stdout",
     "output_type": "stream",
     "text": [
      "Number of samples = 150, Number of dimensions = 4\n",
      "Learning Marginals\n",
      "Marginals learnt in 1.98 s.\n",
      "@ Iter:0,                         Training error: 0.3,                         Validation error: nan,                         Time Elapsed: 6.3 s\n",
      "@ Iter:500,                         Training error: -2.3,                         Validation error: nan,                         Time Elapsed: 11.2 s\n",
      "@ Iter:1000,                         Training error: -2.5,                         Validation error: nan,                         Time Elapsed: 16.5 s\n",
      "@ Iter:1500,                         Training error: -2.5,                         Validation error: nan,                         Time Elapsed: 21.9 s\n"
     ]
    },
    {
     "data": {
      "text/plain": [
       "[<matplotlib.lines.Line2D at 0x247d83ad288>]"
      ]
     },
     "execution_count": 16,
     "metadata": {},
     "output_type": "execute_result"
    },
    {
     "data": {
      "image/png": "[encoded data removed]",
      "text/plain": [
       "<Figure size 432x288 with 1 Axes>"
      ]
     },
     "metadata": {
      "needs_background": "light"
     },
     "output_type": "display_data"
    }
   ],
   "source": [
    "# Example learning GMMC on Iris dataset\n",
    "from sklearn.datasets import load_iris\n",
    "\n",
    "data=load_iris().data.astype('float32')\n",
    "nsamps,ndims = data.shape\n",
    "\n",
    "\n",
    "# Defining a preprocessing bijective transform (eg, log transform in this case)  \n",
    "min_val = (np.min(data)-3*np.std(data)).astype('float32')\n",
    "log_transform = tfb.Chain([tfb.Shift(shift=min_val),tfb.Exp()])\n",
    "\n",
    "\n",
    "data_trn,data_vld,data_tst = utl.splitData(data)\n",
    "\n",
    "# data_in = data.astype('float32')\n",
    "nsamps,ndims = data.shape\n",
    "print(f'Number of samples = {nsamps}, Number of dimensions = {ndims}')\n",
    "\n",
    "# Initialing GMCM object\n",
    "gmcm_obj=GMCM(ndims, data_transform=log_transform)\n",
    "# Train GMCM\n",
    "nll_train,_,_=gmcm_obj.fit_dist_IFM(data_trn,\n",
    "                                    n_comps=3,\n",
    "                                    batch_size=100,\n",
    "                                    max_iters=2000,\n",
    "                                    print_interval=500)\n",
    "\n",
    "# plots log-likelihood\n",
    "plt.plot(-nll_train)"
   ]
  },
  {
   "cell_type": "code",
   "execution_count": 19,
   "metadata": {},
   "outputs": [
    {
     "data": {
      "text/plain": [
       "[<matplotlib.lines.Line2D at 0x247da2e62c8>]"
      ]
     },
     "execution_count": 19,
     "metadata": {},
     "output_type": "execute_result"
    },
    {
     "data": {
      "image/png": "[encoded data removed]",
      "text/plain": [
       "<Figure size 432x288 with 1 Axes>"
      ]
     },
     "metadata": {
      "needs_background": "light"
     },
     "output_type": "display_data"
    }
   ],
   "source": [
    "sampled=gmcm_obj.distribution.sample(150)\n",
    "plt.plot(data[:,1],data[:,2],'ro')\n",
    "plt.plot(sampled[:,1],sampled[:,2],'ks')"
   ]
  },
  {
   "cell_type": "code",
   "execution_count": null,
   "metadata": {},
   "outputs": [],
   "source": []
  }
 ],
 "metadata": {
  "kernelspec": {
   "display_name": "Python 3",
   "language": "python",
   "name": "python3"
  },
  "language_info": {
   "codemirror_mode": {
    "name": "ipython",
    "version": 3
   },
   "file_extension": ".py",
   "mimetype": "text/x-python",
   "name": "python",
   "nbconvert_exporter": "python",
   "pygments_lexer": "ipython3",
   "version": "3.7.9"
  }
 },
 "nbformat": 4,
 "nbformat_minor": 4
}
