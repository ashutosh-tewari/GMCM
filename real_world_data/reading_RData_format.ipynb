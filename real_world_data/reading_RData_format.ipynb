{
 "cells": [
  {
   "cell_type": "code",
   "execution_count": 3,
   "id": "47c84222",
   "metadata": {},
   "outputs": [],
   "source": [
    "# %pip install pyreadr"
   ]
  },
  {
   "cell_type": "code",
   "execution_count": 4,
   "id": "33434f58",
   "metadata": {},
   "outputs": [],
   "source": [
    "import pyreadr"
   ]
  },
  {
   "cell_type": "code",
   "execution_count": 5,
   "id": "70a1de8a",
   "metadata": {},
   "outputs": [],
   "source": [
    "result = pyreadr.read_r('u133VsExon.RData') "
   ]
  },
  {
   "cell_type": "code",
   "execution_count": 6,
   "id": "b320e253",
   "metadata": {},
   "outputs": [
    {
     "data": {
      "text/plain": [
       "OrderedDict([('u133VsExon',\n",
       "                                   u133          exon\n",
       "              rownames                               \n",
       "              ENSG00000265096  0.175610  1.072572e-01\n",
       "              ENSG00000152495  0.001780  6.741108e-10\n",
       "              ENSG00000198040  0.005371  1.505019e-03\n",
       "              ENSG00000229092  0.000669  6.755118e-05\n",
       "              ENSG00000158748  0.655261  3.355333e-01\n",
       "              ...                   ...           ...\n",
       "              ENSG00000113492  0.134855  3.888763e-01\n",
       "              ENSG00000157404  0.277243  3.164176e-01\n",
       "              ENSG00000159792  0.478797  9.340930e-01\n",
       "              ENSG00000136378  0.266447  1.142195e-02\n",
       "              ENSG00000165583  0.960914  4.583522e-01\n",
       "              \n",
       "              [19577 rows x 2 columns])])"
      ]
     },
     "execution_count": 6,
     "metadata": {},
     "output_type": "execute_result"
    }
   ],
   "source": [
    "result"
   ]
  },
  {
   "cell_type": "code",
   "execution_count": 10,
   "id": "f3b4f34b",
   "metadata": {},
   "outputs": [],
   "source": [
    "df=result['u133VsExon']"
   ]
  },
  {
   "cell_type": "code",
   "execution_count": 18,
   "id": "706f3483",
   "metadata": {},
   "outputs": [],
   "source": [
    "# saving as CSV file\n",
    "df.to_csv('u133VsExon.csv')"
   ]
  },
  {
   "cell_type": "code",
   "execution_count": null,
   "id": "cd5bcae5",
   "metadata": {},
   "outputs": [],
   "source": []
  },
  {
   "cell_type": "code",
   "execution_count": 1,
   "id": "cc37bf85",
   "metadata": {},
   "outputs": [],
   "source": [
    "import pandas as pd"
   ]
  },
  {
   "cell_type": "code",
   "execution_count": 2,
   "id": "29dc139e",
   "metadata": {},
   "outputs": [
    {
     "data": {
      "text/html": [
       "<div>\n",
       "<style scoped>\n",
       "    .dataframe tbody tr th:only-of-type {\n",
       "        vertical-align: middle;\n",
       "    }\n",
       "\n",
       "    .dataframe tbody tr th {\n",
       "        vertical-align: top;\n",
       "    }\n",
       "\n",
       "    .dataframe thead th {\n",
       "        text-align: right;\n",
       "    }\n",
       "</style>\n",
       "<table border=\"1\" class=\"dataframe\">\n",
       "  <thead>\n",
       "    <tr style=\"text-align: right;\">\n",
       "      <th></th>\n",
       "      <th>rownames</th>\n",
       "      <th>u133</th>\n",
       "      <th>exon</th>\n",
       "    </tr>\n",
       "  </thead>\n",
       "  <tbody>\n",
       "    <tr>\n",
       "      <th>0</th>\n",
       "      <td>ENSG00000265096</td>\n",
       "      <td>0.175610</td>\n",
       "      <td>1.072572e-01</td>\n",
       "    </tr>\n",
       "    <tr>\n",
       "      <th>1</th>\n",
       "      <td>ENSG00000152495</td>\n",
       "      <td>0.001780</td>\n",
       "      <td>6.741108e-10</td>\n",
       "    </tr>\n",
       "    <tr>\n",
       "      <th>2</th>\n",
       "      <td>ENSG00000198040</td>\n",
       "      <td>0.005371</td>\n",
       "      <td>1.505019e-03</td>\n",
       "    </tr>\n",
       "    <tr>\n",
       "      <th>3</th>\n",
       "      <td>ENSG00000229092</td>\n",
       "      <td>0.000669</td>\n",
       "      <td>6.755118e-05</td>\n",
       "    </tr>\n",
       "    <tr>\n",
       "      <th>4</th>\n",
       "      <td>ENSG00000158748</td>\n",
       "      <td>0.655261</td>\n",
       "      <td>3.355333e-01</td>\n",
       "    </tr>\n",
       "    <tr>\n",
       "      <th>...</th>\n",
       "      <td>...</td>\n",
       "      <td>...</td>\n",
       "      <td>...</td>\n",
       "    </tr>\n",
       "    <tr>\n",
       "      <th>19572</th>\n",
       "      <td>ENSG00000113492</td>\n",
       "      <td>0.134855</td>\n",
       "      <td>3.888763e-01</td>\n",
       "    </tr>\n",
       "    <tr>\n",
       "      <th>19573</th>\n",
       "      <td>ENSG00000157404</td>\n",
       "      <td>0.277243</td>\n",
       "      <td>3.164176e-01</td>\n",
       "    </tr>\n",
       "    <tr>\n",
       "      <th>19574</th>\n",
       "      <td>ENSG00000159792</td>\n",
       "      <td>0.478797</td>\n",
       "      <td>9.340930e-01</td>\n",
       "    </tr>\n",
       "    <tr>\n",
       "      <th>19575</th>\n",
       "      <td>ENSG00000136378</td>\n",
       "      <td>0.266447</td>\n",
       "      <td>1.142195e-02</td>\n",
       "    </tr>\n",
       "    <tr>\n",
       "      <th>19576</th>\n",
       "      <td>ENSG00000165583</td>\n",
       "      <td>0.960914</td>\n",
       "      <td>4.583522e-01</td>\n",
       "    </tr>\n",
       "  </tbody>\n",
       "</table>\n",
       "<p>19577 rows × 3 columns</p>\n",
       "</div>"
      ],
      "text/plain": [
       "              rownames      u133          exon\n",
       "0      ENSG00000265096  0.175610  1.072572e-01\n",
       "1      ENSG00000152495  0.001780  6.741108e-10\n",
       "2      ENSG00000198040  0.005371  1.505019e-03\n",
       "3      ENSG00000229092  0.000669  6.755118e-05\n",
       "4      ENSG00000158748  0.655261  3.355333e-01\n",
       "...                ...       ...           ...\n",
       "19572  ENSG00000113492  0.134855  3.888763e-01\n",
       "19573  ENSG00000157404  0.277243  3.164176e-01\n",
       "19574  ENSG00000159792  0.478797  9.340930e-01\n",
       "19575  ENSG00000136378  0.266447  1.142195e-02\n",
       "19576  ENSG00000165583  0.960914  4.583522e-01\n",
       "\n",
       "[19577 rows x 3 columns]"
      ]
     },
     "execution_count": 2,
     "metadata": {},
     "output_type": "execute_result"
    }
   ],
   "source": [
    "df=pd.read_csv('u133VsExon.csv')\n",
    "df"
   ]
  },
  {
   "cell_type": "code",
   "execution_count": null,
   "id": "f6b97496",
   "metadata": {},
   "outputs": [],
   "source": []
  }
 ],
 "metadata": {
  "kernelspec": {
   "display_name": "conda_tensorflow2_p38",
   "language": "python",
   "name": "conda_tensorflow2_p38"
  },
  "language_info": {
   "codemirror_mode": {
    "name": "ipython",
    "version": 3
   },
   "file_extension": ".py",
   "mimetype": "text/x-python",
   "name": "python",
   "nbconvert_exporter": "python",
   "pygments_lexer": "ipython3",
   "version": "3.8.12"
  }
 },
 "nbformat": 4,
 "nbformat_minor": 5
}
