{
 "cells": [
  {
   "cell_type": "code",
   "execution_count": 3,
   "id": "953ec3c6",
   "metadata": {},
   "outputs": [],
   "source": [
    "# %pip install pyreadr"
   ]
  },
  {
   "cell_type": "code",
   "execution_count": 4,
   "id": "b86aeed6",
   "metadata": {},
   "outputs": [],
   "source": [
    "import pyreadr"
   ]
  },
  {
   "cell_type": "code",
   "execution_count": 5,
   "id": "ead3c7d6",
   "metadata": {},
   "outputs": [],
   "source": [
    "result = pyreadr.read_r('u133VsExon.RData') "
   ]
  },
  {
   "cell_type": "code",
   "execution_count": 6,
   "id": "a3544bd4",
   "metadata": {},
   "outputs": [
    {
     "data": {
      "text/plain": [
       "OrderedDict([('u133VsExon',\n",
       "                                   u133          exon\n",
       "              rownames                               \n",
       "              ENSG00000265096  0.175610  1.072572e-01\n",
       "              ENSG00000152495  0.001780  6.741108e-10\n",
       "              ENSG00000198040  0.005371  1.505019e-03\n",
       "              ENSG00000229092  0.000669  6.755118e-05\n",
       "              ENSG00000158748  0.655261  3.355333e-01\n",
       "              ...                   ...           ...\n",
       "              ENSG00000113492  0.134855  3.888763e-01\n",
       "              ENSG00000157404  0.277243  3.164176e-01\n",
       "              ENSG00000159792  0.478797  9.340930e-01\n",
       "              ENSG00000136378  0.266447  1.142195e-02\n",
       "              ENSG00000165583  0.960914  4.583522e-01\n",
       "              \n",
       "              [19577 rows x 2 columns])])"
      ]
     },
     "execution_count": 6,
     "metadata": {},
     "output_type": "execute_result"
    }
   ],
   "source": [
    "result"
   ]
  },
  {
   "cell_type": "code",
   "execution_count": 10,
   "id": "14639b99",
   "metadata": {},
   "outputs": [],
   "source": [
    "df=result['u133VsExon']"
   ]
  },
  {
   "cell_type": "code",
   "execution_count": 18,
   "id": "8442336f",
   "metadata": {},
   "outputs": [],
   "source": [
    "# saving as CSV file\n",
    "df.to_csv('u133VsExon.csv')"
   ]
  },
  {
   "cell_type": "code",
   "execution_count": null,
   "id": "681028f4",
   "metadata": {},
   "outputs": [],
   "source": []
  }
 ],
 "metadata": {
  "kernelspec": {
   "display_name": "conda_tensorflow2_p38",
   "language": "python",
   "name": "conda_tensorflow2_p38"
  },
  "language_info": {
   "codemirror_mode": {
    "name": "ipython",
    "version": 3
   },
   "file_extension": ".py",
   "mimetype": "text/x-python",
   "name": "python",
   "nbconvert_exporter": "python",
   "pygments_lexer": "ipython3",
   "version": "3.8.12"
  }
 },
 "nbformat": 4,
 "nbformat_minor": 5
}
