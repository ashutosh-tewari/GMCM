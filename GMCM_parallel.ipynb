{
 "cells": [
  {
   "cell_type": "code",
   "execution_count": 1,
   "metadata": {},
   "outputs": [],
   "source": [
    "import numpy as np\n",
    "import scipy as sc\n",
    "import tensorflow as tf\n",
    "import tensorflow_probability as tfp\n",
    "from tensorflow_probability import distributions as tfd\n",
    "from tensorflow_probability import bijectors as tfb\n",
    "from scipy import io\n",
    "import time\n",
    "import matplotlib.pyplot as plt\n",
    "from sklearn import mixture\n",
    "import joblib as jbl\n",
    "import sys\n",
    "from fitter import Fitter\n",
    "sys.path.append('C:/Users/tewar/Documents/work/BNAF-master/data/')"
   ]
  },
  {
   "cell_type": "code",
   "execution_count": null,
   "metadata": {},
   "outputs": [],
   "source": []
  },
  {
   "cell_type": "code",
   "execution_count": 16,
   "metadata": {},
   "outputs": [],
   "source": [
    "# finite different gradient\n",
    "def gradientFiniteDifferent(func,theta,delta=1E-8):\n",
    "    n = np.size(theta)\n",
    "    grad = np.zeros((n))\n",
    "    for i in range(n):\n",
    "        theta_p=np.copy(theta)\n",
    "        theta_m=np.copy(theta)\n",
    "        theta_p[i]=theta_p[i]+delta\n",
    "        theta_m[i]=theta_m[i]-delta\n",
    "        f_plus = func(tf.constant(theta_p,dtype=tf.float64)).numpy()\n",
    "        f_minus = func(tf.constant(theta_m,dtype=tf.float64)).numpy()\n",
    "        grad[i] = (f_plus-f_minus)/(2*delta)\n",
    "    return grad\n",
    "\n",
    "def GMM_best_fit(samples,max_ncomp=10, print_info=False):\n",
    "    lowest_bic = np.infty\n",
    "    bic = []\n",
    "    for n_components in np.arange(8,max_ncomp):\n",
    "        # Fit a Gaussian mixture with EM\n",
    "        gmm = mixture.GaussianMixture(n_components=n_components+1,covariance_type='full',max_iter=200,n_init=5)\n",
    "        gmm.fit(samples)\n",
    "        if print_info:\n",
    "            print('Fittng a GMM on samples with %s components: BIC=%f'%(n_components,gmm.bic(samples)))\n",
    "        bic.append(gmm.bic(samples))\n",
    "        if bic[-1] < lowest_bic:\n",
    "            lowest_bic = bic[-1]\n",
    "            best_gmm = gmm    \n",
    "    return best_gmm\n",
    "\n",
    "# Numerically finding the icdf values for a distribution whos analytical CDF is specified\n",
    "def icdf_numerical(u,cdf_funct,lb,ub):\n",
    "    # setting up the numerical method (Chandrupatla root finding algorithm) to find icdf\n",
    "    obj_func = lambda x: cdf_funct(x) - u\n",
    "    # finding the roots\n",
    "    x = tfp.math.find_root_chandrupatla(obj_func,low=lb,high=ub)[0]\n",
    "    return x\n",
    "\n",
    "# Standardize GMM parameters\n",
    "def standardize_gmm_params(alphas,mus,covs):\n",
    "    weighted_mus = tf.linalg.matvec(tf.transpose(mus),alphas)\n",
    "    new_mus = mus - weighted_mus\n",
    "    variances = tf.linalg.diag_part(covs)\n",
    "    scaling_vec = tf.linalg.matvec(tf.transpose(new_mus**2+variances),alphas)\n",
    "    scaling_matrix = tf.linalg.diag(1/(scaling_vec**0.5))\n",
    "    new_mus = tf.linalg.matmul(new_mus,scaling_matrix)\n",
    "    new_covs = tf.linalg.matmul(covs,scaling_matrix**2)\n",
    "    return alphas,new_mus,new_covs\n",
    "\n",
    "# Function to compute numerical gradient using central finite difference\n",
    "def gradientFiniteDifferent(func,theta,delta=1E-4):\n",
    "    n = np.size(theta)\n",
    "    grad = np.zeros((n))\n",
    "    for i in range(n):\n",
    "        theta_p=np.copy(theta)\n",
    "        theta_m=np.copy(theta)\n",
    "        theta_p[i]=theta_p[i]+delta\n",
    "        theta_m[i]=theta_m[i]-delta\n",
    "        f_plus = func(tf.constant(theta_p,dtype=tf.float32)).numpy()\n",
    "        f_minus = func(tf.constant(theta_m,dtype=tf.float32)).numpy()\n",
    "        grad[i] = (f_plus-f_minus)/(2*delta)\n",
    "    return grad\n",
    "\n",
    "def vec2gmm_params(n_dims,n_comps,param_vec):\n",
    "    num_alpha_params = n_comps\n",
    "    num_mu_params = n_comps*n_dims\n",
    "    num_sig_params = int(n_comps*n_dims*(n_dims+1)*0.5)\n",
    "    logit_param, mu_param, chol_param = tf.split(param_vec,[num_alpha_params,num_mu_params,num_sig_params])\n",
    "    mu_vectors = tf.reshape(mu_param, shape=(n_comps,n_dims))\n",
    "    chol_mat_array=tf.TensorArray(tf.float32,size=n_comps)\n",
    "    cov_mat_array=tf.TensorArray(tf.float32,size=n_comps)\n",
    "    for k in range(n_comps):\n",
    "        start_idx = tf.cast(k*(num_sig_params/n_comps),tf.int32)\n",
    "        end_idx = tf.cast((k+1)*(num_sig_params/n_comps),tf.int32)\n",
    "        chol_mat = tfb.FillScaleTriL(diag_bijector=tfb.Exp()).forward(chol_param[start_idx:end_idx])\n",
    "        cov_mat = tf.matmul(chol_mat,tf.transpose(chol_mat))\n",
    "        chol_mat_array = chol_mat_array.write(k,chol_mat) \n",
    "        cov_mat_array =  cov_mat_array.write(k,cov_mat) \n",
    "        \n",
    "    chol_matrices = chol_mat_array.stack()\n",
    "    cov_matrices = cov_mat_array.stack()     \n",
    "    return [logit_param,mu_vectors,cov_matrices,chol_matrices]\n",
    "\n",
    "def gmm_params2vec(n_dims,n_comps,alphas,mu_vectors,cov_matrices):\n",
    "    # now gathering all the parameters into a single vector\n",
    "    param_list = []\n",
    "    param_list.append(np.log(alphas))\n",
    "    param_list.append(tf.reshape(mu_vectors,-1))\n",
    "    for k in range(n_comps):\n",
    "        chol_mat = tf.linalg.cholesky(cov_matrices[k])\n",
    "        param_list.append(tfb.FillScaleTriL(diag_bijector=tfb.Exp()).inverse(chol_mat))\n",
    "    param_vec = tf.concat(param_list,axis=0)\n",
    "    return param_vec"
   ]
  },
  {
   "cell_type": "code",
   "execution_count": 4,
   "metadata": {},
   "outputs": [],
   "source": [
    "# GMC bijector\n",
    "class GMC_bijector(tfb.Bijector):\n",
    "    def __init__(self,n_dims,n_comps,param_list,forward_min_event_ndims=1, validate_args: bool = False,name=\"gmc\"):\n",
    "        super(GMC_bijector, self).__init__(\n",
    "            validate_args=validate_args, forward_min_event_ndims=forward_min_event_ndims, name=name\n",
    "        )\n",
    "        \n",
    "        assert (len(param_list)==3), 'incorrect number of inputs'\n",
    "        assert param_list[1].shape == [n_comps,n_dims], 'the dimension of mean vectors should be ncomps x ndims'\n",
    "        assert param_list[2].shape == [n_comps,n_dims], 'the dimension of variance vectors should be ncomps x ndims'\n",
    "        \n",
    "        self.ndims = n_dims\n",
    "        self.ncomps = n_comps\n",
    "        self.logits = param_list[0]\n",
    "        self.mu_vectors = param_list[1]\n",
    "        self.var_vectors = param_list[2]\n",
    "        self.std_vectors = self.var_vectors**0.5\n",
    "    \n",
    "    def _forward(self, x_mat):\n",
    "        assert x_mat.shape[1] == self.ndims, 'expected data dimensions n_samps x n_dims'\n",
    "        dist = tfd.MixtureSameFamily(mixture_distribution=tfd.Categorical(logits=self.logits),\n",
    "                               components_distribution=tfd.Normal(loc=tf.transpose(self.mu_vectors),\n",
    "                                                                  scale=tf.transpose(self.std_vectors)))\n",
    "        u_mat = dist.cdf(x_mat)\n",
    "        return u_mat\n",
    "    \n",
    "    def _inverse(self, u_mat):\n",
    "        assert u_mat.shape[1] == self.ndims, 'expected data dimensions n_samps x n_dims'\n",
    "        x_mat = self.gmm_icdf_parallel(u_mat,self.logits,tf.transpose(self.mu_vectors),tf.transpose(self.std_vectors))\n",
    "        return x_mat\n",
    "    \n",
    "    def _inverse_log_det_jacobian(self, u_mat):\n",
    "        x_mat = self._inverse(u_mat)\n",
    "        dist = tfd.MixtureSameFamily(mixture_distribution=tfd.Categorical(logits=self.logits),\n",
    "                               components_distribution=tfd.Normal(loc=tf.transpose(self.mu_vectors),\n",
    "                                                                  scale=tf.transpose(self.std_vectors)))\n",
    "        log_det_J_mat = dist.log_prob(x_mat)\n",
    "        return -tf.reduce_sum(log_det_J_mat,axis=1)    \n",
    "    \n",
    "    # Numerically finding the icdf values of univariate gmm distributions (one along each dimension)\n",
    "    @tf.custom_gradient\n",
    "    def gmm_icdf_parallel(self,u_mat,logit,mu_T,std_T):\n",
    "        # Setting up the numerical method to find icdf\n",
    "        # first define a function that computes the residual between the actual true CDF values and the CDF value as specified matrix\n",
    "        obj_func = lambda x: tfd.MixtureSameFamily(mixture_distribution=tfd.Categorical(logits=logit),\n",
    "                                                   components_distribution=tfd.Normal(loc=mu_T,scale=std_T)).cdf(x)-u_mat\n",
    "        # specifying the lower and upper bounds of the root based on current parameters\n",
    "        lb = tf.reduce_min(mu_T,axis=1) - 5*tf.reduce_max(std_T,axis=1)\n",
    "        ub = tf.reduce_max(mu_T,axis=1) + 5*tf.reduce_max(std_T,axis=1)\n",
    "        # replicating the lower and upper bounds\n",
    "        lb = tf.repeat(tf.reshape(lb,[1,-1]),u_mat.shape[0],axis=0)\n",
    "        ub = tf.repeat(tf.reshape(ub,[1,-1]),u_mat.shape[0],axis=0)\n",
    "        # finding the roots (Chandrupatla root finding algorithm)\n",
    "        x_mat = tfp.math.find_root_chandrupatla(obj_func,low=lb,high=ub)[0]\n",
    "        # following code implements custom gradient\n",
    "        def grad(dy):\n",
    "            # Calling  another python function to get the partial derivatives\n",
    "            grad_logit, grad_mu, grad_std = self.partial_deriv_z(x_mat,logit,mu_T,std_T)\n",
    "\n",
    "            temp_mat = tf.linalg.matmul(grad_logit,dy)\n",
    "\n",
    "            logit_grad = tf.linalg.diag_part(temp_mat)\n",
    "            logit_grad = tf.reduce_sum(logit_grad,axis=1)\n",
    "\n",
    "            temp_mat = tf.linalg.matmul(grad_mu,dy)\n",
    "            mu_grad = tf.linalg.diag_part(temp_mat)\n",
    "\n",
    "            temp_mat = tf.linalg.matmul(grad_std,dy)\n",
    "            std_grad = tf.linalg.diag_part(temp_mat)\n",
    "            \n",
    "            return tf.constant(0.,shape=(u_mat.shape)), logit_grad, tf.transpose(mu_grad), tf.transpose(std_grad)    \n",
    "        return x_mat, grad\n",
    "    \n",
    "    # Analytical partial derivative of icdf of Gaussian Mixture marginals\n",
    "    def partial_deriv_z(self,z,logit,mu_T,std_T):\n",
    "        alpha = tf.math.softmax(logit)\n",
    "        grad_logit_array = tf.TensorArray(tf.float32, size=self.ncomps)\n",
    "        grad_mu_array = tf.TensorArray(tf.float32, size=self.ncomps)\n",
    "        grad_var_array = tf.TensorArray(tf.float32, size=self.ncomps)        \n",
    "        dist = tfd.MixtureSameFamily(mixture_distribution=tfd.Categorical(logits=logit),\n",
    "                                components_distribution=tfd.Normal(loc=mu_T,\n",
    "                                                                   scale=std_T))\n",
    "        common_factor1 = dist.prob(z)\n",
    "        for k in range(self.ncomps):        \n",
    "            common_factor2 = tfd.Normal(loc=mu_T[:,k],scale=std_T[:,k]).prob(z)\n",
    "            term = 0.5*(1+tf.math.erf((z-mu_T[:,k])/(tf.math.sqrt(2.)*std_T[:,k])))\n",
    "            v1 = -alpha[k]*(term - dist.cdf(z))/common_factor1\n",
    "            v2 = alpha[k]*common_factor2/common_factor1\n",
    "            v3 = v2 * ((z-mu_T[:,k])/(std_T[:,k])) \n",
    "\n",
    "            grad_logit_array = grad_logit_array.write(k, tf.transpose(v1) )\n",
    "            grad_mu_array = grad_mu_array.write(k, tf.transpose(v2) )\n",
    "            grad_var_array = grad_var_array.write(k, tf.transpose(v3) )\n",
    "        return grad_logit_array.stack(), grad_mu_array.stack(), grad_var_array.stack()\n",
    "    \n",
    " # Marignal transform bijector\n",
    "class Marginal_transform(tfb.Bijector):\n",
    "    def __init__(self,ndims,marg_dist_list,forward_min_event_ndims=1, validate_args: bool = False,name=\"marginals\"):\n",
    "        super(Marginal_transform, self).__init__(\n",
    "            validate_args=validate_args, forward_min_event_ndims=forward_min_event_ndims, name=name\n",
    "        )\n",
    "        self.ndims = ndims\n",
    "        self.marg_dists = marg_dist_list\n",
    "    \n",
    "    def _inverse(self, x_mat):\n",
    "        nobs = x_mat.get_shape().as_list()[0]\n",
    "        temp_array = tf.TensorArray(tf.float32,size=self.ndims)\n",
    "        for j in range(self.ndims):\n",
    "            u_cur = self.marg_dists[j]['cdf'](x_mat[:,j])\n",
    "            temp_array = temp_array.write(j,u_cur)\n",
    "        u_mat = tf.transpose(temp_array.stack())            \n",
    "        return u_mat\n",
    "    \n",
    "    def _forward(self, u_mat):\n",
    "        temp_array = tf.TensorArray(tf.float32,size=self.ndims)\n",
    "        for j in range(self.ndims):\n",
    "            x_cur = icdf_numerical(u_mat[:,j], self.marg_dists[j]['cdf'],self.marg_dists[j]['lb'],self.marg_dists[j]['ub'])\n",
    "            temp_array = temp_array.write(j,x_cur)\n",
    "        x_mat = tf.transpose(temp_array.stack())              \n",
    "        return x_mat\n",
    "    \n",
    "    def _forward_log_det_jacobian(self, u_mat):\n",
    "        x_mat = self._forward(u_mat)\n",
    "        temp_array = tf.TensorArray(tf.float32,size=self.ndims)\n",
    "        for j in range(self.ndims):\n",
    "            temp_array = temp_array.write(j,self.marg_dists[j]['log_pdf'](x_mat[:,j]))\n",
    "        log_det_J_mat = tf.transpose(temp_array.stack())\n",
    "        return -tf.reduce_sum(log_det_J_mat,axis=1) \n",
    "    \n",
    "    def _inverse_log_det_jacobian(self, x_mat):\n",
    "        u_mat = self._inverse(x_mat)\n",
    "        return -self._forward_log_det_jacobian(u_mat)   \n"
   ]
  },
  {
   "cell_type": "code",
   "execution_count": 5,
   "metadata": {},
   "outputs": [],
   "source": [
    "\n",
    "# Defining GMC class\n",
    "class GMC:\n",
    "    def __init__(self, n_dims, n_comps, param_vec):        \n",
    "        self.ndims = n_dims\n",
    "        self.ncomps = n_comps   \n",
    "        self.total_trainable_params = int(n_comps*(1+n_dims+0.5*n_dims*(n_dims+1)))\n",
    "        self.params = param_vec\n",
    "        assert tf.size(param_vec) == self.total_trainable_params, 'the supplied parameter vector is not commensurate with the n_dims, and n_comps'\n",
    "        \n",
    "    @property\n",
    "    def distribution(self):\n",
    "        # transforming vector in to parameters\n",
    "        logits,mus,covs,chols = vec2gmm_params(self.ndims,self.ncomps,self.params)\n",
    "        # Instantiating the bijector\n",
    "        gmc_bijector = GMC_bijector(self.ndims, self.ncomps, [logits, mus, tf.linalg.diag_part(covs)])\n",
    "        # Specifying the base distribution\n",
    "        base_dist = tfd.MixtureSameFamily(tfd.Categorical(logits=logits),\n",
    "                                          tfd.MultivariateNormalTriL(loc=mus,scale_tril=chols))\n",
    "        # Instnatiating the gmc distribution as a transformed distribtution\n",
    "        gmc_dist = tfd.TransformedDistribution(distribution=base_dist,bijector=gmc_bijector)    \n",
    "        return gmc_dist   \n",
    "    \n",
    "    @property\n",
    "    def identifiability_prior(self):\n",
    "        # transforming vector in to parameters\n",
    "        logits,mus,covs,_ = vec2gmm_params(self.ndims,self.ncomps,self.params)        \n",
    "        alphas = tf.math.softmax(logits)\n",
    "        variances = tf.linalg.diag_part(covs)        \n",
    "        vec1 = tf.linalg.matvec(tf.transpose(mus),alphas)\n",
    "        vec2 = tf.linalg.matvec(tf.transpose(variances + mus**2),alphas)\n",
    "        log_prior_1 = tfd.MultivariateNormalDiag(loc=tf.zeros(self.ndims),scale_diag=1E-1*tf.ones(self.ndims)).log_prob(vec1)\n",
    "        log_prior_2 = tfd.MultivariateNormalDiag(loc=tf.ones(self.ndims) ,scale_diag=1E-1*tf.ones(self.ndims)).log_prob(vec2)\n",
    "        return log_prior_1,log_prior_2\n",
    "    \n",
    "\n",
    "    \n",
    "class GMCM:\n",
    "    def __init__(self, n_dims, data_in, forward_transform=None, marginals_list=None, gmc=None):\n",
    "        \n",
    "        self.ndims = n_dims\n",
    "        self.data_transform = forward_transform\n",
    "        self.gmc = gmc\n",
    "        if gmc is not None:\n",
    "            self.ncomps = gmc.ncomps\n",
    "        \n",
    "        if forward_transform is not None:\n",
    "            data_in = forward_transform.inverse(data_in).numpy()\n",
    "        self.data_in = data_in\n",
    "        \n",
    "        if marginals_list is None:\n",
    "            print('Learning Marginals')\n",
    "            ts = time.time()\n",
    "            marginals_list = self.learn_marginals()\n",
    "            print(f'Marginals learnt in {np.round(time.time()-ts,2)} s.') \n",
    "        \n",
    "        self.marg_dists = marginals_list\n",
    "        self.marg_bijector = Marginal_transform(self.ndims,self.marg_dists)       \n",
    "        \n",
    "    @property\n",
    "    def distribution(self):\n",
    "        # setting the gmcm distribution as a transformed distribution of gmc_distribution\n",
    "        gmcm_dist = tfd.TransformedDistribution(distribution=self.gmc.distribution,bijector=self.marg_bijector)\n",
    "        if self.data_transform is not None:\n",
    "            gmcm_dist = tfd.TransformedDistribution(distribution=gmcm_dist,bijector=self.data_transform)\n",
    "        return gmcm_dist\n",
    "    \n",
    "    \n",
    "    def learn_marginals(self):\n",
    "        # fitting marginal distributions first\n",
    "        marg_dist_list=[]\n",
    "        for j in range(self.ndims):\n",
    "            input_vector = self.data_in[:,j].reshape(-1,1)\n",
    "            marg_gmm_obj = GMM_best_fit(input_vector,max_ncomp=10)\n",
    "            marg_gmm_tfp = tfd.MixtureSameFamily(mixture_distribution=tfd.Categorical(probs=marg_gmm_obj.weights_.flatten().astype('float32')),\n",
    "                                                components_distribution=tfd.Normal(loc=marg_gmm_obj.means_.flatten().astype('float32'),\n",
    "                                                                                   scale = marg_gmm_obj.covariances_.flatten().astype('float32')**0.5),)\n",
    "            \n",
    "            # creating a dictionary containing necessary information about each marginal distribution\n",
    "            info_dict={'cdf':marg_gmm_tfp.cdf,\n",
    "                       'log_pdf':marg_gmm_tfp.log_prob,\n",
    "                       'lb':tf.reduce_min(input_vector)-3*tfp.stats.stddev(input_vector),\n",
    "                       'ub':tf.reduce_max(input_vector)+3*tfp.stats.stddev(input_vector)                         \n",
    "                      }\n",
    "            \n",
    "            marg_dist_list.append(info_dict)\n",
    "        \n",
    "        return marg_dist_list\n",
    "        \n",
    "    def init_GMC_params(self,initialization=['random',None]):\n",
    "        # Initializing the GMC params \n",
    "        init_method, seed_val = initialization\n",
    "        if init_method == 'random':\n",
    "            if seed_val is not None:\n",
    "                np.random.seed(seed_val)\n",
    "            alphas = tf.ones(self.ncomps)/self.ncomps\n",
    "            mus = tf.constant(np.random.randn(self.ncomps,self.ndims).astype('float32'))\n",
    "            covs = tf.repeat(tf.expand_dims(tf.eye(self.ndims),0),self.ncomps,axis=0)\n",
    "        elif init_method == 'gmm':            \n",
    "            gmm = mixture.GaussianMixture(n_components=self.ncomps,covariance_type='full',max_iter=1000,n_init=5)\n",
    "            gmm.fit(self.data_in)\n",
    "            alphas = gmm.weights_.astype('float32')\n",
    "            mus = gmm.means_.astype('float32')\n",
    "            covs = gmm.covariances_.astype('float32')                                                            \n",
    "        \n",
    "        # changing the parameters to standardize the resulting gmm\n",
    "        alphas,mus,covs = standardize_gmm_params(alphas,mus,covs)\n",
    "        # now initializing trainable parameters\n",
    "        init_params = tf.Variable(gmm_params2vec(self.ndims,self.ncomps,alphas,mus,covs))\n",
    "        \n",
    "        return init_params\n",
    "    \n",
    "    \n",
    "    def fit_GMC_dist(self, n_comps, optimizer = tf.optimizers.Adam(learning_rate=1E-2), initialization = ['random',None], max_iters = 1000, batch_size = 10, print_interval=100, regularize=True, plot_results = False):\n",
    "        self.ncomps = n_comps\n",
    "        # getting the marginal CDF values\n",
    "        u_mat = self.marg_bijector.inverse(self.data_in)\n",
    "        # initializing the parameters\n",
    "        gmc_params = self.init_GMC_params(initialization=initialization)\n",
    "        # instantiation GMC object\n",
    "        gmc_obj = GMC(self.ndims,self.ncomps,gmc_params)\n",
    "        \n",
    "        # Defining the training step\n",
    "        @tf.function\n",
    "        def train_step(u_selected):\n",
    "            with tf.GradientTape() as tape:\n",
    "                neg_gmc_ll = -tf.reduce_mean(gmc_obj.distribution.log_prob(u_selected))\n",
    "                ident_prior = gmc_obj.identifiability_prior\n",
    "                if regularize:\n",
    "                    total_cost = neg_gmc_ll - tf.reduce_sum(ident_prior)\n",
    "                else:\n",
    "                    total_cost = neg_gmc_ll\n",
    "                    \n",
    "            grads = tape.gradient(total_cost, gmc_obj.params)\n",
    "            if not (tf.reduce_any(tf.math.is_nan(grads)) or tf.reduce_any(tf.math.is_inf(grads))):\n",
    "                optimizer.apply_gradients(zip([grads], [gmc_obj.params])) #updating the gmc parameters\n",
    "            return neg_gmc_ll,ident_prior[0],ident_prior[1]\n",
    "\n",
    "        neg_ll_trn = np.empty(max_iters)  \n",
    "        neg_ll_trn[:] = np.NaN\n",
    "        neg_prior_1 = np.empty(max_iters)  \n",
    "        neg_prior_1[:] = np.NaN\n",
    "        neg_prior_2 = np.empty(max_iters)  \n",
    "        neg_prior_2[:] = np.NaN\n",
    "        np.random.seed(10)\n",
    "        ts = time.time() # start time\n",
    "        # Optimization iterations\n",
    "        for itr in np.arange(max_iters):\n",
    "            np.random.seed(itr)\n",
    "            # Executing a training step\n",
    "            samps_idx = np.random.choice(u_mat.shape[0],batch_size)\n",
    "            u_selected_trn = tf.gather(u_mat,samps_idx)\n",
    "            out = train_step(u_selected_trn)\n",
    "            neg_ll_trn[itr] = out[0].numpy()\n",
    "            neg_prior_1[itr] = out[1].numpy()\n",
    "            neg_prior_2[itr] = out[2].numpy()    \n",
    "            # Printing results every 100 iteration    \n",
    "            if tf.equal(itr%print_interval,0) or tf.equal(itr,0):\n",
    "                time_elapsed = np.round(time.time()-ts,1)\n",
    "                print(f'@ Iter:{itr}, Training error: {neg_ll_trn[itr]}, LogPriors: {np.round(neg_prior_1[itr],2), np.round(neg_prior_2[itr],2)}, Time Elapsed: {time_elapsed} s')    \n",
    "        \n",
    "        if plot_results:\n",
    "            # Plotting results\n",
    "            plt.plot(neg_ll_trn)\n",
    "            plt.xlabel('Iteration',fontsize=12)\n",
    "            plt.ylabel('Neg_logLike',fontsize=12)\n",
    "            plt.legend(['train'],fontsize=12)\n",
    "        \n",
    "        # setting gmc distritbution embedded inside GMCM\n",
    "        self.gmc = gmc_obj\n",
    "         \n",
    "        return neg_ll_trn\n",
    "    \n",
    "    def get_marginal(self,dim_list):        \n",
    "        data_in_new = tf.gather(self.data_in,dim_list,axis=1).numpy()\n",
    "        logits,mus,covs,_ = vec2gmm_params(self.ndims,self.ncomps,self.gmc.params)\n",
    "        alphas = tf.math.softmax(logits)\n",
    "        dim_remove = list(set(list(range(self.ndims)))-set(dim_list))\n",
    "        mus_new = tf.gather(mus, dim_list, axis=1)\n",
    "        covs_new = tf.TensorArray(tf.float32,self.ncomps)\n",
    "        for k in range(self.ncomps):\n",
    "            temp_mat = covs[k].numpy()\n",
    "            covs_new = covs_new.write(k,temp_mat[np.ix_(dim_list,dim_list)])\n",
    "        covs_new = covs_new.stack()\n",
    "        # getting the gmc object first for the marginal gmcm\n",
    "        marginal_gmc_params = gmm_params2vec(len(dim_list),self.ncomps,alphas,mus_new,covs_new)\n",
    "        marg_gmc = GMC(len(dim_list),self.ncomps,marginal_gmc_params)\n",
    "        # then getting the marginals along the specified dimensions\n",
    "        marg_list_new = []\n",
    "        for j in range(self.ndims):\n",
    "            if j in dim_list:\n",
    "                marg_list_new.append(self.marg_dists[j])\n",
    "        # creating the marginal gmcm object\n",
    "        marg_gmcm_dist = GMCM(len(dim_list), data_in_new, forward_transform=self.data_transform, marginals_list=marg_list_new, gmc=marg_gmc)\n",
    "        return marg_gmcm_dist   \n",
    "    \n",
    "    def get_conditional(self,obs_dim_list, value_list):\n",
    "        \n",
    "        x_obs = np.array(value_list).reshape(1,-1).astype('float32')\n",
    "        unobs_dim_list = list(set(range(self.ndims)) - set(obs_dim_list))\n",
    "        \n",
    "        #Obtaining the marginal distribution for the observed and missing part\n",
    "        gmcm_observed = self.get_marginal(obs_dim_list)\n",
    "        gmcm_unobserved = self.get_marginal(unobs_dim_list)\n",
    "        \n",
    "        temp_obj = gmcm_observed\n",
    "        z_obs = np.copy(x_obs)\n",
    "        while hasattr(temp_obj.distribution,'bijector'):\n",
    "            z_obs = temp_obj.distribution.bijector.inverse(z_obs).numpy()\n",
    "            temp_obj = temp_obj.distribution\n",
    "\n",
    "        #Obtaining the conditional mu and Sigma of individual compoents of the missing part given the data of observed part\n",
    "        mus_cond = np.zeros((self.ncomps,len(unobs_dim_list))).astype('float32')\n",
    "        covs_cond = np.zeros((self.ncomps,len(unobs_dim_list), len(unobs_dim_list))).astype('float32')\n",
    "        logits_cond = np.zeros(self.ncomps).astype('float32')\n",
    "        \n",
    "        logits,mus,covs,_ = vec2gmm_params(self.ndims,self.ncomps,self.gmc.params)\n",
    "        logits_unobs,mus_unobs,covs_unobs,_ = vec2gmm_params(gmcm_unobserved.ndims,gmcm_unobserved.ncomps,gmcm_unobserved.gmc.params)\n",
    "        logits_obs,mus_obs,covs_obs,_ = vec2gmm_params(gmcm_observed.ndims,gmcm_observed.ncomps,gmcm_observed.gmc.params)\n",
    "        \n",
    "        for k in range(self.ncomps):\n",
    "            sig_11 = covs_unobs.numpy()[k]\n",
    "            sig_22 = covs_obs.numpy()[k]\n",
    "            sig_12 = covs.numpy()[k][np.ix_(unobs_dim_list,obs_dim_list)]\n",
    "            sig_21 = sig_12.T\n",
    "            mu_11 = mus_unobs[k,:]\n",
    "            mu_22 = mus_obs[k,:]\n",
    "            \n",
    "#             temp_mat1 = np.concatenate([np.concatenate([sig_11,sig_12],axis=1),np.concatenate([sig_21,sig_22],axis=1)],axis=0)\n",
    "#             temp_mat2=covs.numpy()[k]\n",
    "#             lll = unobs_dim_list+obs_dim_list\n",
    "#             temp_mat2 = temp_mat2[:,lll]\n",
    "#             temp_mat2 = temp_mat2[lll,:]\n",
    "#             print(temp_mat1-temp_mat2)\n",
    "            \n",
    "\n",
    "            # Getting the conditional mu and Sigma\n",
    "            mu_bar = mu_11 + np.matmul(sig_12,  np.linalg.solve(sig_22,z_obs.T)).flatten()\n",
    "            sig_bar = sig_11 - np.matmul(sig_12,  np.linalg.solve(sig_22,sig_21))\n",
    "            mus_cond[k] = mu_bar\n",
    "            covs_cond[k] = (sig_bar+sig_bar.T)/2\n",
    "\n",
    "            # Getting the log proability of the components conditioned on the observed data\n",
    "            logits_cond[k] = logits_obs[k] + tfd.MultivariateNormalFullCovariance(loc=mus_obs[k],\n",
    "                                                                                         covariance_matrix=covs_obs[k]).log_prob(z_obs)\n",
    "        #logits to probabilities\n",
    "        alphas_cond = tf.math.softmax(logits_cond)\n",
    "        # parameter vector of the conditional gmc distribution\n",
    "        conditional_gmc_params = gmm_params2vec(len(unobs_dim_list),self.ncomps,alphas_cond,mus_cond,covs_cond)\n",
    "        cond_gmc = GMC(len(unobs_dim_list),self.ncomps,conditional_gmc_params)\n",
    "        # then getting the marginals along the specified dimensions\n",
    "        marg_list_new = []\n",
    "        for j in range(self.ndims):\n",
    "            if j in unobs_dim_list:\n",
    "                marg_list_new.append(self.marg_dists[j])\n",
    "        # creating the conditional gmcm object\n",
    "        data_in_new = tf.gather(self.data_in,unobs_dim_list,axis=1).numpy()\n",
    "        cond_gmcm_dist = GMCM(len(unobs_dim_list), data_in_new, forward_transform=self.data_transform, marginals_list=marg_list_new, gmc=cond_gmc)\n",
    "        return cond_gmcm_dist  \n",
    "        "
   ]
  },
  {
   "cell_type": "code",
   "execution_count": null,
   "metadata": {},
   "outputs": [],
   "source": [
    "data_set = ['GAS','POWER','HEPMASS']\n",
    "\n",
    "from gas import GAS\n",
    "from power import POWER\n",
    "from hepmass import HEPMASS\n",
    "\n",
    "n_reps = 100\n",
    "ll_list = []\n",
    "\n",
    "for i in range(3):\n",
    "    if data_set[i] is 'GAS':\n",
    "        gg=GAS('C:/Users/tewar/Documents/work/GMCM/data/gas/ethylene_CO.pickle')\n",
    "    elif data[i] is 'POWER':\n",
    "        gg=POWER('C:/Users/tewar/Documents/work/GMCM/data/power/data.npy')\n",
    "    elif data_set[i] is 'HEPMASS':\n",
    "        gg=HEPMASS('C:/Users/tewar/Documents/work/GMCM/data/hepmass/')\n",
    "\n",
    "    data = gg.trn.x\n",
    "    nsamps,ndims = data.shape\n",
    "    np.random.seed(0)\n",
    "    idx_selected = np.unique(np.random.randint(0,nsamps,int(nsamps/50)))\n",
    "    data_in = data[idx_selected,:].astype('float32')\n",
    "\n",
    "    nsamps,ndims = data_in.shape\n",
    "    print(f'Number of samples = {nsamps}, Number of dimensions = {ndims}')\n",
    "\n",
    "    min_val = np.min(data_in).astype('float32')-1\n",
    "    shift_exp_bijec = tfb.Chain([tfb.Shift(shift=min_val.astype('float32')),tfb.Exp()])\n",
    "    np.random.shuffle(data_in)\n",
    "    data_in_trn,data_in_tst = np.split(data_in,[int(np.round(nsamps*0.75))])\n",
    "    \n",
    "    gmcm_obj = GMCM(ndims, data_in_trn, forward_transform=shift_exp_bijec)\n",
    "    ll_reg = np.zeros((5000,n_reps))\n",
    "    ll_nonreg = np.zeros((5000,n_reps))\n",
    "    for rep in range(n_reps):\n",
    "        print(rep)\n",
    "        ll_reg[:,rep]=gmcm_obj.fit_GMC_dist(10,max_iters=5000,batch_size=50,initialization=['random',rep], print_interval=500, regularize=True)\n",
    "        ll_nonreg[:,rep]=gmcm_obj.fit_GMC_dist(10,max_iters=5000,batch_size=50,initialization=['random',rep], print_interval=500, regularize=False)\n",
    "        \n",
    "    ll_list.append([ll_reg,ll_nonreg])\n",
    "\n",
    "jbl.dump(ll_list,'regularization_impact')"
   ]
  },
  {
   "cell_type": "code",
   "execution_count": null,
   "metadata": {},
   "outputs": [],
   "source": [
    "from power import POWER\n",
    "gg=POWER('C:/Users/tewar/Documents/work/GMCM/data/power/data.npy')\n",
    "data = gg.trn.x\n",
    "nsamps,ndims = data.shape\n",
    "idx_selected = np.unique(np.random.randint(0,nsamps,int(nsamps/50)))\n",
    "data_in = data[idx_selected,:].astype('float32')\n",
    "# data_in = np.random.randn(1000,10).astype('float32')\n",
    "min_val = np.min(data_in).astype('float32')-1\n",
    "shift_exp_bijec = tfb.Chain([tfb.Shift(shift=min_val.astype('float32')),tfb.Exp()])\n",
    "gmcm_obj = GMCM(ndims, data_in, forward_transform=shift_exp_bijec)\n",
    "ll_trn=gmcm_obj.fit_GMC_dist(5,max_iters=5,batch_size=50,initialization=['random',1], print_interval=500, regularize=True)"
   ]
  },
  {
   "cell_type": "code",
   "execution_count": null,
   "metadata": {},
   "outputs": [],
   "source": [
    "dl,vals = [0, 2, 3, 5], [0.1, -2, 1.2, 3.4]\n",
    "marg_gmcm = gmcm_obj.get_marginal(dl)\n",
    "cond_gmcm = gmcm_obj.get_conditional(dl,vals)"
   ]
  },
  {
   "cell_type": "code",
   "execution_count": null,
   "metadata": {},
   "outputs": [],
   "source": [
    "vv_all = np.array([0.1, 0, -2, 1.2, 0, 3.4]).astype('float32').reshape(1,-1)\n",
    "vv_obs = np.array(vals).astype('float32').reshape(1,-1)\n",
    "vv_unobs = np.array([0.,0.]).astype('float32').reshape(1,-1)\n",
    "print(gmcm_obj.distribution.log_prob(vv_all) - marg_gmcm.distribution.log_prob(vv_obs))\n",
    "print(cond_gmcm.distribution.log_prob(vv_unobs))"
   ]
  },
  {
   "cell_type": "code",
   "execution_count": null,
   "metadata": {},
   "outputs": [],
   "source": [
    "out1 = vec2gmm_params(gmcm_obj.ndims,gmcm_obj.ncomps,gmcm_obj.gmc.params)\n",
    "out2 = vec2gmm_params(marg_gmcm.ndims, marg_gmcm.ncomps,marg_gmcm.gmc.params)\n",
    "out3 = vec2gmm_params(cond_gmcm.ndims, cond_gmcm.ncomps,cond_gmcm.gmc.params)\n",
    "\n",
    "\n",
    "print(tf.math.softmax(out1[0]))\n",
    "print(tf.math.softmax(out2[0]))\n",
    "print(tf.math.softmax(out3[0]))\n",
    "\n"
   ]
  },
  {
   "cell_type": "code",
   "execution_count": null,
   "metadata": {},
   "outputs": [],
   "source": [
    "data1 = gmcm_obj.distribution.sample(10000)\n",
    "data2 = marg_gmcm.distribution.sample(10000)\n"
   ]
  },
  {
   "cell_type": "code",
   "execution_count": null,
   "metadata": {},
   "outputs": [],
   "source": [
    "vv =np.array([1,1.,1]).astype('float32').reshape(1,-1)\n",
    "vv1 = marg_gmcm.distribution.bijector.inverse(vv)\n",
    "print(vv1)\n",
    "vv2 = marg_gmcm.distribution.distribution.bijector.inverse(vv1)\n",
    "print(vv2)\n",
    "vv3 = marg_gmcm.distribution.distribution.distribution.bijector.inverse(vv2)\n",
    "print(vv3)\n",
    "\n",
    "obj = marg_gmcm\n",
    "while hasattr(obj.distribution,'bijector'):\n",
    "    vv = obj.distribution.bijector.inverse(vv).numpy()\n",
    "    print(vv)\n",
    "    obj = obj.distribution\n",
    "    \n",
    "\n",
    "\n"
   ]
  },
  {
   "cell_type": "code",
   "execution_count": null,
   "metadata": {},
   "outputs": [],
   "source": [
    "plt.plot(data1[:,3],data1[:,0],'k.');\n",
    "plt.plot(data2[:,1],data2[:,0],'r.');"
   ]
  },
  {
   "cell_type": "code",
   "execution_count": null,
   "metadata": {},
   "outputs": [],
   "source": [
    "plt.semilogy(ll_trn+10)"
   ]
  },
  {
   "cell_type": "code",
   "execution_count": null,
   "metadata": {},
   "outputs": [],
   "source": [
    "plt.plot(ll_1)\n",
    "np.mean(ll_1)"
   ]
  },
  {
   "cell_type": "code",
   "execution_count": null,
   "metadata": {},
   "outputs": [],
   "source": [
    "gmcm_obj.gmc.total_trainable_params"
   ]
  },
  {
   "cell_type": "code",
   "execution_count": null,
   "metadata": {},
   "outputs": [],
   "source": [
    "data_in_tst.shape"
   ]
  },
  {
   "cell_type": "code",
   "execution_count": null,
   "metadata": {},
   "outputs": [],
   "source": [
    "ss = gmcm_obj.distribution.sample(2000).numpy()"
   ]
  },
  {
   "cell_type": "code",
   "execution_count": null,
   "metadata": {},
   "outputs": [],
   "source": [
    "id1,id2 = np.random.choice(ndims,2)\n",
    "plt.subplot(121)\n",
    "plt.plot(ss[:,id1],ss[:,id2],'k.')\n",
    "plt.subplot(122)\n",
    "plt.plot(data_in[:,id1],data_in[:,id2],'k.')\n",
    "print([id1,id2])"
   ]
  },
  {
   "cell_type": "code",
   "execution_count": null,
   "metadata": {},
   "outputs": [],
   "source": [
    "# plt.hist(ss[:,id2],20);\n",
    "plt.hist(data_in[:,id2],50)"
   ]
  },
  {
   "cell_type": "code",
   "execution_count": null,
   "metadata": {},
   "outputs": [],
   "source": [
    "plt.hist(np.log(data_in[:,1]+1),50);"
   ]
  },
  {
   "cell_type": "code",
   "execution_count": null,
   "metadata": {},
   "outputs": [],
   "source": [
    "sys.path.append('../logs/GAS/LRminus3_NComps60/chkpt/')\n"
   ]
  },
  {
   "cell_type": "code",
   "execution_count": 28,
   "metadata": {},
   "outputs": [],
   "source": [
    "@tf.function\n",
    "def run_chain(init_state,step_size,target_log_prob_fn, unconstraining_bijectors=tfb.Identity(),num_steps=1000,burnin=50):\n",
    "    def trace_fn(_,pkr):\n",
    "        return (\n",
    "            pkr.inner_results.inner_results.target_log_prob,\n",
    "            pkr.inner_results.inner_results.leapfrogs_taken,\n",
    "            pkr.inner_results.inner_results.has_divergence,\n",
    "            pkr.inner_results.inner_results.energy,\n",
    "            pkr.inner_results.inner_results.log_accept_ratio\n",
    "                )\n",
    "#     kernel = tfp.mcmc.TransformedTransitionKernel(\n",
    "#         inner_kernel=tfp.mcmc.NoUTurnSampler(\n",
    "#             target_log_prob_fn,\n",
    "#             step_size=step_size),\n",
    "#         bijector=unconstraining_bijectors)\n",
    "\n",
    "#     hmc = tfp.mcmc.DualAveragingStepSizeAdaptation(\n",
    "#         inner_kernel=kernel,\n",
    "#         num_adaptation_steps=burnin,\n",
    "#         step_size_setter_fn=lambda pkr, new_step_size: pkr._replace(\n",
    "#               inner_results=pkr.inner_results._replace(step_size=new_step_size)),\n",
    "#         step_size_getter_fn=lambda pkr: pkr.inner_results.step_size,\n",
    "#         log_accept_prob_getter_fn=lambda pkr: pkr.inner_results.log_accept_ratio\n",
    "#       )\n",
    "    \n",
    "    \n",
    "    hmc = tfp.mcmc.TransformedTransitionKernel(\n",
    "        inner_kernel=tfp.mcmc.RandomWalkMetropolis(target_log_prob_fn),\n",
    "        bijector=unconstraining_bijectors) \n",
    "    \n",
    "    \n",
    "\n",
    "    # Sampling from the chain.\n",
    "    return tfp.mcmc.sample_chain(\n",
    "        num_results=num_steps,\n",
    "        num_burnin_steps=burnin,\n",
    "        current_state=init_state,\n",
    "        kernel=hmc)\n",
    "#         trace_fn=trace_fn)\n"
   ]
  },
  {
   "cell_type": "code",
   "execution_count": null,
   "metadata": {},
   "outputs": [],
   "source": [
    "aa=np.load('../logs/GAS/LRminus3_NComps60/chkpt/iter10000.npy')"
   ]
  },
  {
   "cell_type": "code",
   "execution_count": null,
   "metadata": {},
   "outputs": [],
   "source": [
    "plt.plot(aa)\n",
    "aa[-1]"
   ]
  },
  {
   "cell_type": "code",
   "execution_count": 34,
   "metadata": {},
   "outputs": [
    {
     "data": {
      "text/plain": [
       "<tf.Tensor: shape=(), dtype=float32, numpy=-3.0486903>"
      ]
     },
     "execution_count": 34,
     "metadata": {},
     "output_type": "execute_result"
    }
   ],
   "source": [
    "alpha = [0.1,0.2,0.7]\n",
    "mu = np.random.randn(3,2).astype('float32')\n",
    "sig = np.zeros((3,2,2)).astype('float32')\n",
    "sig[0] = tfb.FillScaleTriL(diag_bijector=tfb.Exp()).forward(np.random.randn(3).astype('float32'))\n",
    "sig[1] = tfb.FillScaleTriL(diag_bijector=tfb.Exp()).forward(np.random.randn(3).astype('float32'))\n",
    "sig[2] = tfb.FillScaleTriL(diag_bijector=tfb.Exp()).forward(np.random.randn(3).astype('float32'))\n",
    "dist=tfd.MixtureSameFamily(mixture_distribution=tfd.Categorical(probs=alpha),\n",
    "                          components_distribution=tfd.MultivariateNormalTriL(loc=mu,scale_tril=sig))\n",
    "ss = dist.sample(10000).numpy()\n",
    "tf.reduce_mean(dist.log_prob(ss))"
   ]
  },
  {
   "cell_type": "code",
   "execution_count": 36,
   "metadata": {},
   "outputs": [
    {
     "name": "stdout",
     "output_type": "stream",
     "text": [
      "Learning Marginals\n",
      "Marginals learnt in 2.85 s.\n",
      "@ Iter:0, Training error: 0.10003776848316193, LogPriors: (2.77, 2.77), Time Elapsed: 9.6 s\n",
      "@ Iter:500, Training error: -0.3778989315032959, LogPriors: (2.77, 2.77), Time Elapsed: 16.0 s\n",
      "@ Iter:1000, Training error: -0.2882385551929474, LogPriors: (2.77, 2.77), Time Elapsed: 22.4 s\n",
      "@ Iter:1500, Training error: -0.24300140142440796, LogPriors: (2.77, 2.77), Time Elapsed: 29.0 s\n",
      "@ Iter:2000, Training error: -0.21369384229183197, LogPriors: (2.77, 2.77), Time Elapsed: 35.7 s\n",
      "@ Iter:2500, Training error: -0.297603577375412, LogPriors: (2.77, 2.77), Time Elapsed: 42.4 s\n",
      "@ Iter:3000, Training error: -0.25312918424606323, LogPriors: (2.77, 2.77), Time Elapsed: 49.2 s\n",
      "@ Iter:3500, Training error: -0.24207094311714172, LogPriors: (2.77, 2.77), Time Elapsed: 56.0 s\n",
      "@ Iter:4000, Training error: -0.23808158934116364, LogPriors: (2.77, 2.77), Time Elapsed: 62.8 s\n",
      "@ Iter:4500, Training error: -0.25017836689949036, LogPriors: (2.77, 2.77), Time Elapsed: 69.6 s\n"
     ]
    }
   ],
   "source": [
    "gmcm_obj = GMCM(2, ss)\n",
    "ll_trn=gmcm_obj.fit_GMC_dist(2,max_iters=5000,batch_size=50,initialization=['random',0], print_interval=500, regularize=True)"
   ]
  },
  {
   "cell_type": "code",
   "execution_count": 37,
   "metadata": {},
   "outputs": [
    {
     "data": {
      "text/plain": [
       "<tf.Tensor: shape=(), dtype=float32, numpy=-3.195995>"
      ]
     },
     "execution_count": 37,
     "metadata": {},
     "output_type": "execute_result"
    },
    {
     "data": {
      "image/png": "[encoded data removed]",
      "text/plain": [
       "<Figure size 432x288 with 1 Axes>"
      ]
     },
     "metadata": {
      "needs_background": "light"
     },
     "output_type": "display_data"
    }
   ],
   "source": [
    "plt.plot(ll_trn)\n",
    "tf.reduce_mean(gmcm_obj.distribution.log_prob(ss))"
   ]
  },
  {
   "cell_type": "code",
   "execution_count": 58,
   "metadata": {},
   "outputs": [
    {
     "data": {
      "text/plain": [
       "<tf.Tensor: shape=(1,), dtype=float32, numpy=array([-2.7199116], dtype=float32)>"
      ]
     },
     "execution_count": 58,
     "metadata": {},
     "output_type": "execute_result"
    }
   ],
   "source": [
    "gmcm_obj.gmc.distribution.log_prob(np.array([0.3,0.1]).astype('float32').reshape(1,-1))\n",
    "\n",
    "def target_log_prob(u_part):\n",
    "    u = tf.concat([u_part,tf.constant(0.999999,shape=(1,))],axis=0)\n",
    "    u = tf.reshape(u,shape=(1,-1))\n",
    "    return gmcm_obj.gmc.distribution.log_prob(u)\n",
    "\n",
    "init_state = tf.constant(np.random.rand(1).astype('float32'))\n",
    "target_log_prob(init_state)"
   ]
  },
  {
   "cell_type": "code",
   "execution_count": 24,
   "metadata": {},
   "outputs": [
    {
     "name": "stdout",
     "output_type": "stream",
     "text": [
      "tf.Tensor([-0.6234164], shape=(1,), dtype=float32)\n",
      "tf.Tensor([0. 0.], shape=(2,), dtype=float32)\n",
      "[-16.32452011 -93.01185608]\n"
     ]
    }
   ],
   "source": [
    "# init_state = tf.constant(np.random.rand(2).astype('float32'))\n",
    "u_init = tf.Variable(init_state)\n",
    "with tf.GradientTape() as tape:\n",
    "    out = target_log_prob(u_init)\n",
    "grads = tape.gradient(out, u_init)\n",
    "print(out)\n",
    "print(grads)\n",
    "\n",
    "grad_fd = gradientFiniteDifferent(target_log_prob,u_init,delta=1E-4)\n",
    "print(grad_fd)"
   ]
  },
  {
   "cell_type": "code",
   "execution_count": 32,
   "metadata": {},
   "outputs": [
    {
     "name": "stderr",
     "output_type": "stream",
     "text": [
      "C:\\Users\\tewar\\Anaconda3\\envs\\myPythonEnv\\lib\\site-packages\\tensorflow_probability\\python\\mcmc\\sample.py:342: UserWarning: Tracing all kernel results by default is deprecated. Set the `trace_fn` argument to None (the future default value) or an explicit callback that traces the values you are interested in.\n",
      "  warnings.warn('Tracing all kernel results by default is deprecated. Set '\n"
     ]
    },
    {
     "name": "stdout",
     "output_type": "stream",
     "text": [
      "NUTS runtime for 5 chains: 7.9406280517578125 s.\n"
     ]
    }
   ],
   "source": [
    "# Running 5 chains in parallel\n",
    "n_chains = 5\n",
    "init_state = tf.constant(np.random.rand(2).astype('float32'))\n",
    "step_size= 0.1\n",
    "# bijector to map contrained parameters to real\n",
    "ts = time.time()\n",
    "output_NUTS = run_chain(init_state, step_size, target_log_prob,num_steps=10,burnin=50)\n",
    "print(f'NUTS runtime for {n_chains} chains: {time.time()-ts} s.')"
   ]
  },
  {
   "cell_type": "code",
   "execution_count": null,
   "metadata": {},
   "outputs": [],
   "source": [
    "ess = tfp.mcmc.effective_sample_size(output_NUTS.all_states)\n",
    "ess = tfp.transpose(ess).numpy()\n",
    "plot(ess)\n",
    "total_samples_all_chains = np.prod(output_NUTS.all_states.shape[:2])\n",
    "total_samples = tf.reshape(output_NUTS.all_states,shape=(total_samples_all_chains,2))"
   ]
  },
  {
   "cell_type": "code",
   "execution_count": 33,
   "metadata": {},
   "outputs": [
    {
     "data": {
      "text/plain": [
       "<tf.Tensor: shape=(10, 2), dtype=float32, numpy=\n",
       "array([[ 0.01819915, -0.52441907],\n",
       "       [ 0.01819915, -0.52441907],\n",
       "       [ 0.01819915, -0.52441907],\n",
       "       [ 0.01819915, -0.52441907],\n",
       "       [ 0.01819915, -0.52441907],\n",
       "       [ 0.01819915, -0.52441907],\n",
       "       [ 0.01819915, -0.52441907],\n",
       "       [ 0.01819915, -0.52441907],\n",
       "       [ 0.01819915, -0.52441907],\n",
       "       [ 0.01819915, -0.52441907]], dtype=float32)>"
      ]
     },
     "execution_count": 33,
     "metadata": {},
     "output_type": "execute_result"
    }
   ],
   "source": [
    "output_NUTS.all_states"
   ]
  },
  {
   "cell_type": "code",
   "execution_count": 59,
   "metadata": {},
   "outputs": [
    {
     "name": "stdout",
     "output_type": "stream",
     "text": [
      "0\n",
      "10\n",
      "20\n",
      "30\n",
      "40\n"
     ]
    }
   ],
   "source": [
    "u_vec = np.linspace(0.001,0.9999,50).astype('float32').reshape(-1,1)\n",
    "p_vec = np.zeros(50)\n",
    "for i in range(50):\n",
    "    p_vec[i] = target_log_prob(u_vec[i])\n",
    "    if i%10 ==0:\n",
    "        print(i)\n"
   ]
  },
  {
   "cell_type": "code",
   "execution_count": 60,
   "metadata": {},
   "outputs": [
    {
     "data": {
      "text/plain": [
       "[<matplotlib.lines.Line2D at 0x1c3d86e6e48>]"
      ]
     },
     "execution_count": 60,
     "metadata": {},
     "output_type": "execute_result"
    },
    {
     "data": {
      "image/png": "[encoded data removed]",
      "text/plain": [
       "<Figure size 432x288 with 1 Axes>"
      ]
     },
     "metadata": {
      "needs_background": "light"
     },
     "output_type": "display_data"
    }
   ],
   "source": [
    "plt.plot(u_vec,tf.exp(p_vec),'k')"
   ]
  },
  {
   "cell_type": "code",
   "execution_count": null,
   "metadata": {},
   "outputs": [],
   "source": []
  }
 ],
 "metadata": {
  "kernelspec": {
   "display_name": "Python 3",
   "language": "python",
   "name": "python3"
  },
  "language_info": {
   "codemirror_mode": {
    "name": "ipython",
    "version": 3
   },
   "file_extension": ".py",
   "mimetype": "text/x-python",
   "name": "python",
   "nbconvert_exporter": "python",
   "pygments_lexer": "ipython3",
   "version": "3.8.3"
  }
 },
 "nbformat": 4,
 "nbformat_minor": 4
}
