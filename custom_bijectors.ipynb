{
 "cells": [
  {
   "cell_type": "code",
   "execution_count": 8,
   "metadata": {},
   "outputs": [],
   "source": [
    "import numpy as np\n",
    "import tensorflow as tf\n",
    "import tensorflow_probability as tfp\n",
    "from tensorflow_probability import distributions as tfd\n",
    "from tensorflow_probability import bijectors as tfb\n",
    "import utils as utl"
   ]
  },
  {
   "cell_type": "code",
   "execution_count": 20,
   "metadata": {},
   "outputs": [],
   "source": [
    "# Test Bijectors\n",
    "class GMC_bijector(tfb.Bijector):\n",
    "    def __init__(self,ndims,ncomps,inputs,forward_min_event_ndims=1, validate_args: bool = False,name=\"gmc\"):\n",
    "        super(GMC_bijector, self).__init__(\n",
    "            validate_args=validate_args, forward_min_event_ndims=forward_min_event_ndims, name=name\n",
    "        )\n",
    "        self.ndims = ndims\n",
    "        self.ncomps = ncomps\n",
    "        self.alpha = inputs[0]\n",
    "        self.mu_vectors = inputs[1] \n",
    "        self.chol_matrices = inputs[2]\n",
    "        cov_mat_array=tf.TensorArray(tf.float64,size=ncomps)\n",
    "        for k in range(ncomps):\n",
    "            cov_mat = tf.matmul(self.chol_matrices[k],tf.transpose(self.chol_matrices[k]))\n",
    "            cov_mat_array =  cov_mat_array.write(k,cov_mat)         \n",
    "        self.cov_matrices = cov_mat_array.stack()\n",
    "    \n",
    "    def _forward(self, x_mat):\n",
    "        temp_array = tf.TensorArray(tf.float64,size=self.ndims)\n",
    "        for j in range(ndims):\n",
    "            u_cur = utl.gmm_cdf(x_mat[:,j],self.alpha,self.mu_vectors[:,j],self.cov_matrices[:,j,j])\n",
    "            temp_array = temp_array.write(j,u_cur)\n",
    "        u_mat = tf.transpose(temp_array.stack())\n",
    "        return u_mat\n",
    "\n",
    "    \n",
    "    def _inverse(self, u_mat):\n",
    "        temp_array = tf.TensorArray(tf.float64,size=self.ndims)\n",
    "        for j in range(ndims):\n",
    "            x_cur = utl.gmm_icdf(u_mat[:,j],self.alpha,self.mu_vectors[:,j],self.cov_matrices[:,j,j])\n",
    "            temp_array = temp_array.write(j,x_cur)\n",
    "        x_mat = tf.transpose(temp_array.stack())\n",
    "        return x_mat\n",
    "\n",
    "    \n",
    "    def _forward_log_det_jacobian(self,x_mat):\n",
    "        nobs = x_mat.get_shape().as_list()[0]\n",
    "        forward_log_det_J = tf.zeros(nobs)\n",
    "        for j in range(ndims):\n",
    "            forward_log_det_J += utl.gmm_lpdf(x_mat[:,j],self.alpha,self.mu_vectors[:,j],self.cov_matrices[:,j,j])\n",
    "        return forward_log_det_J\n",
    "        \n",
    "    \n",
    "    def _inverse_log_det_jacobian(self, u_mat):\n",
    "        return -self._forward_log_det_jacobian(self._inverse(u_mat))\n",
    "\n",
    "                        "
   ]
  },
  {
   "cell_type": "code",
   "execution_count": null,
   "metadata": {},
   "outputs": [],
   "source": []
  }
 ],
 "metadata": {
  "kernelspec": {
   "display_name": "Python 3",
   "language": "python",
   "name": "python3"
  },
  "language_info": {
   "codemirror_mode": {
    "name": "ipython",
    "version": 3
   },
   "file_extension": ".py",
   "mimetype": "text/x-python",
   "name": "python",
   "nbconvert_exporter": "python",
   "pygments_lexer": "ipython3",
   "version": "3.7.9"
  }
 },
 "nbformat": 4,
 "nbformat_minor": 4
}
